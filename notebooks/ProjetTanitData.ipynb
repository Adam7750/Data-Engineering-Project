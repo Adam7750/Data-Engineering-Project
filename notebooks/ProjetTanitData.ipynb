{
 "cells": [
  {
   "cell_type": "code",
   "execution_count": 52,
   "id": "997736f0-dac6-4684-a873-02f6b2f530b4",
   "metadata": {
    "collapsed": true,
    "jupyter": {
     "outputs_hidden": true
    }
   },
   "outputs": [
    {
     "name": "stdout",
     "output_type": "stream",
     "text": [
      "Collecting py2neo\n",
      "  Downloading py2neo-2021.2.4-py2.py3-none-any.whl.metadata (9.9 kB)\n",
      "Requirement already satisfied: certifi in c:\\users\\acer\\documents\\ananconda\\lib\\site-packages (from py2neo) (2024.8.30)\n",
      "Collecting interchange~=2021.0.4 (from py2neo)\n",
      "  Downloading interchange-2021.0.4-py2.py3-none-any.whl.metadata (1.9 kB)\n",
      "Collecting monotonic (from py2neo)\n",
      "  Downloading monotonic-1.6-py2.py3-none-any.whl.metadata (1.5 kB)\n",
      "Requirement already satisfied: packaging in c:\\users\\acer\\documents\\ananconda\\lib\\site-packages (from py2neo) (24.1)\n",
      "Collecting pansi>=2020.7.3 (from py2neo)\n",
      "  Downloading pansi-2024.11.0-py2.py3-none-any.whl.metadata (3.1 kB)\n",
      "Requirement already satisfied: pygments>=2.0.0 in c:\\users\\acer\\appdata\\roaming\\python\\python312\\site-packages (from py2neo) (2.19.1)\n",
      "Requirement already satisfied: six>=1.15.0 in c:\\users\\acer\\documents\\ananconda\\lib\\site-packages (from py2neo) (1.16.0)\n",
      "Requirement already satisfied: urllib3 in c:\\users\\acer\\documents\\ananconda\\lib\\site-packages (from py2neo) (2.2.3)\n",
      "Requirement already satisfied: pytz in c:\\users\\acer\\documents\\ananconda\\lib\\site-packages (from interchange~=2021.0.4->py2neo) (2024.1)\n",
      "Requirement already satisfied: pillow in c:\\users\\acer\\documents\\ananconda\\lib\\site-packages (from pansi>=2020.7.3->py2neo) (10.4.0)\n",
      "Downloading py2neo-2021.2.4-py2.py3-none-any.whl (177 kB)\n",
      "Downloading interchange-2021.0.4-py2.py3-none-any.whl (28 kB)\n",
      "Downloading pansi-2024.11.0-py2.py3-none-any.whl (26 kB)\n",
      "Downloading monotonic-1.6-py2.py3-none-any.whl (8.2 kB)\n",
      "Installing collected packages: monotonic, pansi, interchange, py2neo\n",
      "Successfully installed interchange-2021.0.4 monotonic-1.6 pansi-2024.11.0 py2neo-2021.2.4\n"
     ]
    }
   ],
   "source": [
    "!pip install py2neo"
   ]
  },
  {
   "cell_type": "code",
   "execution_count": 54,
   "id": "5eb8d0dd-9857-4e0d-8860-63ed65980b18",
   "metadata": {},
   "outputs": [],
   "source": [
    "from py2neo import Graph, Node, Relationship, NodeMatcher\n",
    "\n",
    "# Connexion à Neo4j\n",
    "graph = Graph(\"bolt://localhost:7687\", auth=(\"neo4j\", \"toure21diadie\"))\n",
    "matcher = NodeMatcher(graph)\n",
    "\n",
    "# Supposons que \"data\" contient tes articles extraits\n",
    "for article in data:\n",
    "    # Nettoyage et vérification des champs essentiels\n",
    "    paper_id = article.get('paper_id', '').strip() or None\n",
    "    title = article.get('title', '').strip()\n",
    "    abstract = article.get('abstract', '').strip()\n",
    "    doi = article.get('doi', '').strip()\n",
    "    \n",
    "    # Création ou récupération du noeud Article\n",
    "    if paper_id:\n",
    "        article_node = matcher.match(\"Article\", paper_id=paper_id).first()\n",
    "        if not article_node:\n",
    "            article_node = Node(\"Article\", paper_id=paper_id, title=title, abstract=abstract, doi=doi)\n",
    "            graph.create(article_node)\n",
    "    else:\n",
    "        article_node = Node(\"Article\", title=title, abstract=abstract, doi=doi)\n",
    "        graph.create(article_node)\n",
    "    \n",
    "    # Traiter les auteurs\n",
    "    for author in article.get('authors', []):\n",
    "        first = (author.get('first') or '').strip()\n",
    "        middle = (author.get('middle') or '').strip()\n",
    "        last = (author.get('last') or '').strip()\n",
    "        institution = (author.get('institution') or '').strip()\n",
    "        location = (author.get('location') or '').strip()\n",
    "        \n",
    "        if last:  # On considère que \"last\" est obligatoire pour identifier un auteur\n",
    "            author_node = matcher.match(\"Auteur\", last=last).first()\n",
    "            if not author_node:\n",
    "                author_node = Node(\"Auteur\", first=first, middle=middle, last=last, institution=institution, location=location)\n",
    "                graph.create(author_node)\n",
    "            \n",
    "            # Relation Article -> Auteur\n",
    "            relation = Relationship(article_node, \"ÉCRIT_PAR\", author_node)\n",
    "            graph.merge(relation)\n",
    "            \n",
    "            # Lier l'auteur à son institution\n",
    "            if institution:\n",
    "                institution_node = matcher.match(\"Institution\", name=institution).first()\n",
    "                if not institution_node:\n",
    "                    institution_node = Node(\"Institution\", name=institution, location=location)\n",
    "                    graph.create(institution_node)\n",
    "                \n",
    "                institution_relation = Relationship(author_node, \"APPARTIENT_A\", institution_node)\n",
    "                graph.merge(institution_relation)\n",
    "    \n",
    "    # Traiter les mots-clés\n",
    "    for keyword in article.get('keywords', []):\n",
    "        keyword_clean = keyword.strip()\n",
    "        if keyword_clean:\n",
    "            keyword_node = matcher.match(\"MotClé\", keyword=keyword_clean).first()\n",
    "            if not keyword_node:\n",
    "                keyword_node = Node(\"MotClé\", keyword=keyword_clean)\n",
    "                graph.create(keyword_node)\n",
    "            \n",
    "            keyword_relation = Relationship(article_node, \"A_POUR_MOT_CLÉ\", keyword_node)\n",
    "            graph.merge(keyword_relation)\n"
   ]
  },
  {
   "cell_type": "code",
   "execution_count": null,
   "id": "8aee28b3-69b2-48aa-a498-874660d1d235",
   "metadata": {},
   "outputs": [],
   "source": []
  }
 ],
 "metadata": {
  "kernelspec": {
   "display_name": "Python 3 (ipykernel)",
   "language": "python",
   "name": "python3"
  },
  "language_info": {
   "codemirror_mode": {
    "name": "ipython",
    "version": 3
   },
   "file_extension": ".py",
   "mimetype": "text/x-python",
   "name": "python",
   "nbconvert_exporter": "python",
   "pygments_lexer": "ipython3",
   "version": "3.12.7"
  }
 },
 "nbformat": 4,
 "nbformat_minor": 5
}
